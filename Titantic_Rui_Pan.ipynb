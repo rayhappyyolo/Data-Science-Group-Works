{
  "nbformat": 4,
  "nbformat_minor": 0,
  "metadata": {
    "colab": {
      "provenance": []
    },
    "kernelspec": {
      "name": "python3",
      "display_name": "Python 3"
    },
    "language_info": {
      "name": "python"
    }
  },
  "cells": [
    {
      "cell_type": "code",
      "execution_count": null,
      "metadata": {
        "colab": {
          "base_uri": "https://localhost:8080/"
        },
        "id": "GRWrSpjj7yXA",
        "outputId": "356677ec-d6d4-4389-8e2a-557d5227dc9f"
      },
      "outputs": [
        {
          "output_type": "stream",
          "name": "stdout",
          "text": [
            "Drive already mounted at /content/drive; to attempt to forcibly remount, call drive.mount(\"/content/drive\", force_remount=True).\n"
          ]
        }
      ],
      "source": [
        "# Connecting the Python Code with the google drive\n",
        "from google.colab import drive\n",
        "drive.mount(\"/content/drive\")"
      ]
    },
    {
      "cell_type": "code",
      "source": [
        "import pandas as pd\n",
        "file_path = '/content/drive/MyDrive/Colab Notebooks/assignments/titanic_train.csv'\n",
        "titanic_df = pd.read_csv(file_path)\n",
        "print(titanic_df)"
      ],
      "metadata": {
        "colab": {
          "base_uri": "https://localhost:8080/"
        },
        "id": "jmhFdTKR80ru",
        "outputId": "ec7c376b-337f-48bd-d210-d3200b48d90b"
      },
      "execution_count": 48,
      "outputs": [
        {
          "output_type": "stream",
          "name": "stdout",
          "text": [
            "     PassengerId  Survived  Pclass  \\\n",
            "0              1         0       3   \n",
            "1              2         1       1   \n",
            "2              3         1       3   \n",
            "3              4         1       1   \n",
            "4              5         0       3   \n",
            "..           ...       ...     ...   \n",
            "886          887         0       2   \n",
            "887          888         1       1   \n",
            "888          889         0       3   \n",
            "889          890         1       1   \n",
            "890          891         0       3   \n",
            "\n",
            "                                                  Name     Sex   Age  SibSp  \\\n",
            "0                              Braund, Mr. Owen Harris    male  22.0      1   \n",
            "1    Cumings, Mrs. John Bradley (Florence Briggs Th...  female  38.0      1   \n",
            "2                               Heikkinen, Miss. Laina  female  26.0      0   \n",
            "3         Futrelle, Mrs. Jacques Heath (Lily May Peel)  female  35.0      1   \n",
            "4                             Allen, Mr. William Henry    male  35.0      0   \n",
            "..                                                 ...     ...   ...    ...   \n",
            "886                              Montvila, Rev. Juozas    male  27.0      0   \n",
            "887                       Graham, Miss. Margaret Edith  female  19.0      0   \n",
            "888           Johnston, Miss. Catherine Helen \"Carrie\"  female   NaN      1   \n",
            "889                              Behr, Mr. Karl Howell    male  26.0      0   \n",
            "890                                Dooley, Mr. Patrick    male  32.0      0   \n",
            "\n",
            "     Parch            Ticket     Fare Cabin Embarked  \n",
            "0        0         A/5 21171   7.2500   NaN        S  \n",
            "1        0          PC 17599  71.2833   C85        C  \n",
            "2        0  STON/O2. 3101282   7.9250   NaN        S  \n",
            "3        0            113803  53.1000  C123        S  \n",
            "4        0            373450   8.0500   NaN        S  \n",
            "..     ...               ...      ...   ...      ...  \n",
            "886      0            211536  13.0000   NaN        S  \n",
            "887      0            112053  30.0000   B42        S  \n",
            "888      2        W./C. 6607  23.4500   NaN        S  \n",
            "889      0            111369  30.0000  C148        C  \n",
            "890      0            370376   7.7500   NaN        Q  \n",
            "\n",
            "[891 rows x 12 columns]\n"
          ]
        }
      ]
    },
    {
      "cell_type": "code",
      "source": [
        "schema = titanic_df.dtypes\n",
        "print(schema)"
      ],
      "metadata": {
        "colab": {
          "base_uri": "https://localhost:8080/"
        },
        "id": "LzxSRiHT8_N3",
        "outputId": "87cf6f9c-caa8-4585-8611-16e52e091a85"
      },
      "execution_count": null,
      "outputs": [
        {
          "output_type": "stream",
          "name": "stdout",
          "text": [
            "PassengerId      int64\n",
            "Survived         int64\n",
            "Pclass           int64\n",
            "Name            object\n",
            "Sex             object\n",
            "Age            float64\n",
            "SibSp            int64\n",
            "Parch            int64\n",
            "Ticket          object\n",
            "Fare           float64\n",
            "Cabin           object\n",
            "Embarked        object\n",
            "dtype: object\n"
          ]
        }
      ]
    },
    {
      "cell_type": "code",
      "source": [
        "first_10_rows = titanic_df.head(10)\n",
        "print(first_10_rows)"
      ],
      "metadata": {
        "colab": {
          "base_uri": "https://localhost:8080/"
        },
        "id": "tUWY9ggZ9BYe",
        "outputId": "8b510858-5ce7-492b-aea4-261dc06e6278"
      },
      "execution_count": null,
      "outputs": [
        {
          "output_type": "stream",
          "name": "stdout",
          "text": [
            "   PassengerId  Survived  Pclass  \\\n",
            "0            1         0       3   \n",
            "1            2         1       1   \n",
            "2            3         1       3   \n",
            "3            4         1       1   \n",
            "4            5         0       3   \n",
            "5            6         0       3   \n",
            "6            7         0       1   \n",
            "7            8         0       3   \n",
            "8            9         1       3   \n",
            "9           10         1       2   \n",
            "\n",
            "                                                Name     Sex   Age  SibSp  \\\n",
            "0                            Braund, Mr. Owen Harris    male  22.0      1   \n",
            "1  Cumings, Mrs. John Bradley (Florence Briggs Th...  female  38.0      1   \n",
            "2                             Heikkinen, Miss. Laina  female  26.0      0   \n",
            "3       Futrelle, Mrs. Jacques Heath (Lily May Peel)  female  35.0      1   \n",
            "4                           Allen, Mr. William Henry    male  35.0      0   \n",
            "5                                   Moran, Mr. James    male   NaN      0   \n",
            "6                            McCarthy, Mr. Timothy J    male  54.0      0   \n",
            "7                     Palsson, Master. Gosta Leonard    male   2.0      3   \n",
            "8  Johnson, Mrs. Oscar W (Elisabeth Vilhelmina Berg)  female  27.0      0   \n",
            "9                Nasser, Mrs. Nicholas (Adele Achem)  female  14.0      1   \n",
            "\n",
            "   Parch            Ticket     Fare Cabin Embarked  \n",
            "0      0         A/5 21171   7.2500   NaN        S  \n",
            "1      0          PC 17599  71.2833   C85        C  \n",
            "2      0  STON/O2. 3101282   7.9250   NaN        S  \n",
            "3      0            113803  53.1000  C123        S  \n",
            "4      0            373450   8.0500   NaN        S  \n",
            "5      0            330877   8.4583   NaN        Q  \n",
            "6      0             17463  51.8625   E46        S  \n",
            "7      1            349909  21.0750   NaN        S  \n",
            "8      2            347742  11.1333   NaN        S  \n",
            "9      0            237736  30.0708   NaN        C  \n"
          ]
        }
      ]
    },
    {
      "cell_type": "code",
      "source": [
        "summary_statistics = titanic_df.describe(include='all')\n",
        "missing_data = titanic_df.isnull().sum()\n",
        "print(summary_statistics)\n"
      ],
      "metadata": {
        "colab": {
          "base_uri": "https://localhost:8080/"
        },
        "id": "QBFfkhcU9sDK",
        "outputId": "e2c3deee-294b-4768-c791-801bffc3cddf"
      },
      "execution_count": null,
      "outputs": [
        {
          "output_type": "stream",
          "name": "stdout",
          "text": [
            "        PassengerId    Survived      Pclass                     Name   Sex  \\\n",
            "count    891.000000  891.000000  891.000000                      891   891   \n",
            "unique          NaN         NaN         NaN                      891     2   \n",
            "top             NaN         NaN         NaN  Braund, Mr. Owen Harris  male   \n",
            "freq            NaN         NaN         NaN                        1   577   \n",
            "mean     446.000000    0.383838    2.308642                      NaN   NaN   \n",
            "std      257.353842    0.486592    0.836071                      NaN   NaN   \n",
            "min        1.000000    0.000000    1.000000                      NaN   NaN   \n",
            "25%      223.500000    0.000000    2.000000                      NaN   NaN   \n",
            "50%      446.000000    0.000000    3.000000                      NaN   NaN   \n",
            "75%      668.500000    1.000000    3.000000                      NaN   NaN   \n",
            "max      891.000000    1.000000    3.000000                      NaN   NaN   \n",
            "\n",
            "               Age       SibSp       Parch  Ticket        Fare    Cabin  \\\n",
            "count   714.000000  891.000000  891.000000     891  891.000000      204   \n",
            "unique         NaN         NaN         NaN     681         NaN      147   \n",
            "top            NaN         NaN         NaN  347082         NaN  B96 B98   \n",
            "freq           NaN         NaN         NaN       7         NaN        4   \n",
            "mean     29.699118    0.523008    0.381594     NaN   32.204208      NaN   \n",
            "std      14.526497    1.102743    0.806057     NaN   49.693429      NaN   \n",
            "min       0.420000    0.000000    0.000000     NaN    0.000000      NaN   \n",
            "25%      20.125000    0.000000    0.000000     NaN    7.910400      NaN   \n",
            "50%      28.000000    0.000000    0.000000     NaN   14.454200      NaN   \n",
            "75%      38.000000    1.000000    0.000000     NaN   31.000000      NaN   \n",
            "max      80.000000    8.000000    6.000000     NaN  512.329200      NaN   \n",
            "\n",
            "       Embarked  \n",
            "count       889  \n",
            "unique        3  \n",
            "top           S  \n",
            "freq        644  \n",
            "mean        NaN  \n",
            "std         NaN  \n",
            "min         NaN  \n",
            "25%         NaN  \n",
            "50%         NaN  \n",
            "75%         NaN  \n",
            "max         NaN  \n"
          ]
        }
      ]
    },
    {
      "cell_type": "code",
      "source": [
        "print(missing_data)"
      ],
      "metadata": {
        "colab": {
          "base_uri": "https://localhost:8080/"
        },
        "id": "N5gs_FXd_ZM2",
        "outputId": "267bda22-6f99-4455-c4a2-4994f6448bd7"
      },
      "execution_count": null,
      "outputs": [
        {
          "output_type": "stream",
          "name": "stdout",
          "text": [
            "PassengerId      0\n",
            "Survived         0\n",
            "Pclass           0\n",
            "Name             0\n",
            "Sex              0\n",
            "Age            177\n",
            "SibSp            0\n",
            "Parch            0\n",
            "Ticket           0\n",
            "Fare             0\n",
            "Cabin          687\n",
            "Embarked         2\n",
            "dtype: int64\n"
          ]
        }
      ]
    },
    {
      "cell_type": "code",
      "source": [
        "string_columns = ['Sex', 'Cabin', 'Embarked']\n",
        "most_frequent_values = {}\n",
        "for col in string_columns:\n",
        "    most_frequent_values[col] = titanic_df[col].value_counts().head(10)\n",
        "print(most_frequent_values)"
      ],
      "metadata": {
        "colab": {
          "base_uri": "https://localhost:8080/"
        },
        "id": "qMOCzUlrBQYD",
        "outputId": "ddf767d9-b373-4715-942f-244642e6ff53"
      },
      "execution_count": null,
      "outputs": [
        {
          "output_type": "stream",
          "name": "stdout",
          "text": [
            "{'Sex': male      577\n",
            "female    314\n",
            "Name: Sex, dtype: int64, 'Cabin': B96 B98        4\n",
            "G6             4\n",
            "C23 C25 C27    4\n",
            "C22 C26        3\n",
            "F33            3\n",
            "F2             3\n",
            "E101           3\n",
            "D              3\n",
            "C78            2\n",
            "C93            2\n",
            "Name: Cabin, dtype: int64, 'Embarked': S    644\n",
            "C    168\n",
            "Q     77\n",
            "Name: Embarked, dtype: int64}\n"
          ]
        }
      ]
    },
    {
      "cell_type": "code",
      "source": [
        "# Convert numerical columns' data type to float64\n",
        "numerical_cols = ['Pclass', 'Age', 'SibSp', 'Parch', 'Fare']\n",
        "for col in numerical_cols:\n",
        "    titanic_df[col] = titanic_df[col].astype('float64')\n",
        "\n",
        "# Handle missing values in the Age column\n",
        "mean_age = titanic_df['Age'].mean()\n",
        "titanic_df['Age'] = titanic_df['Age'].fillna(mean_age)\n",
        "\n",
        "# Create a new variable 'AgeNA' to indicate whether the age value is missing\n",
        "titanic_df['AgeNA'] = titanic_df['Age'].isnull().astype(int)\n",
        "\n",
        "# Recheck if there are still any missing values in the Age column\n",
        "missing_after = titanic_df['Age'].isnull().sum()\n",
        "\n",
        "# Print the first few rows after the changes to verify\n",
        "print(titanic_df.head())\n",
        "\n",
        "# Recalculate summary statistics\n",
        "new_summary_statistics = titanic_df.describe(include='all')\n"
      ],
      "metadata": {
        "colab": {
          "base_uri": "https://localhost:8080/"
        },
        "id": "1NCRepMcFBW0",
        "outputId": "04556cee-45a2-44c3-c24b-8490468dbc8b"
      },
      "execution_count": 49,
      "outputs": [
        {
          "output_type": "stream",
          "name": "stdout",
          "text": [
            "   PassengerId  Survived  Pclass  \\\n",
            "0            1         0     3.0   \n",
            "1            2         1     1.0   \n",
            "2            3         1     3.0   \n",
            "3            4         1     1.0   \n",
            "4            5         0     3.0   \n",
            "\n",
            "                                                Name     Sex   Age  SibSp  \\\n",
            "0                            Braund, Mr. Owen Harris    male  22.0    1.0   \n",
            "1  Cumings, Mrs. John Bradley (Florence Briggs Th...  female  38.0    1.0   \n",
            "2                             Heikkinen, Miss. Laina  female  26.0    0.0   \n",
            "3       Futrelle, Mrs. Jacques Heath (Lily May Peel)  female  35.0    1.0   \n",
            "4                           Allen, Mr. William Henry    male  35.0    0.0   \n",
            "\n",
            "   Parch            Ticket     Fare Cabin Embarked  AgeNA  \n",
            "0    0.0         A/5 21171   7.2500   NaN        S      0  \n",
            "1    0.0          PC 17599  71.2833   C85        C      0  \n",
            "2    0.0  STON/O2. 3101282   7.9250   NaN        S      0  \n",
            "3    0.0            113803  53.1000  C123        S      0  \n",
            "4    0.0            373450   8.0500   NaN        S      0  \n"
          ]
        }
      ]
    },
    {
      "cell_type": "code",
      "source": [
        "print(titanic_df.head())"
      ],
      "metadata": {
        "colab": {
          "base_uri": "https://localhost:8080/"
        },
        "id": "_PDRvGN2G8fk",
        "outputId": "1a3c34f3-0c58-408a-c9a8-f8b7c2866913"
      },
      "execution_count": 20,
      "outputs": [
        {
          "output_type": "stream",
          "name": "stdout",
          "text": [
            "   PassengerId  Survived  Pclass  \\\n",
            "0            1         0     3.0   \n",
            "1            2         1     1.0   \n",
            "2            3         1     3.0   \n",
            "3            4         1     1.0   \n",
            "4            5         0     3.0   \n",
            "\n",
            "                                                Name     Sex   Age  SibSp  \\\n",
            "0                            Braund, Mr. Owen Harris    male  22.0    1.0   \n",
            "1  Cumings, Mrs. John Bradley (Florence Briggs Th...  female  38.0    1.0   \n",
            "2                             Heikkinen, Miss. Laina  female  26.0    0.0   \n",
            "3       Futrelle, Mrs. Jacques Heath (Lily May Peel)  female  35.0    1.0   \n",
            "4                           Allen, Mr. William Henry    male  35.0    0.0   \n",
            "\n",
            "   Parch            Ticket     Fare Cabin Embarked  AgeNA  \n",
            "0    0.0         A/5 21171   7.2500   NaN        S      0  \n",
            "1    0.0          PC 17599  71.2833   C85        C      0  \n",
            "2    0.0  STON/O2. 3101282   7.9250   NaN        S      0  \n",
            "3    0.0            113803  53.1000  C123        S      0  \n",
            "4    0.0            373450   8.0500   NaN        S      0  \n"
          ]
        }
      ]
    },
    {
      "cell_type": "code",
      "source": [],
      "metadata": {
        "id": "D8fCLaf9HTOV"
      },
      "execution_count": null,
      "outputs": []
    },
    {
      "cell_type": "code",
      "source": [
        "print(new_summary_statistics)"
      ],
      "metadata": {
        "colab": {
          "base_uri": "https://localhost:8080/"
        },
        "id": "JeMD8zM1HUqi",
        "outputId": "fd9d4050-0ab5-4587-89e5-7f9172ef7553"
      },
      "execution_count": 21,
      "outputs": [
        {
          "output_type": "stream",
          "name": "stdout",
          "text": [
            "        PassengerId    Survived      Pclass                     Name   Sex  \\\n",
            "count    891.000000  891.000000  891.000000                      891   891   \n",
            "unique          NaN         NaN         NaN                      891     2   \n",
            "top             NaN         NaN         NaN  Braund, Mr. Owen Harris  male   \n",
            "freq            NaN         NaN         NaN                        1   577   \n",
            "mean     446.000000    0.383838    2.308642                      NaN   NaN   \n",
            "std      257.353842    0.486592    0.836071                      NaN   NaN   \n",
            "min        1.000000    0.000000    1.000000                      NaN   NaN   \n",
            "25%      223.500000    0.000000    2.000000                      NaN   NaN   \n",
            "50%      446.000000    0.000000    3.000000                      NaN   NaN   \n",
            "75%      668.500000    1.000000    3.000000                      NaN   NaN   \n",
            "max      891.000000    1.000000    3.000000                      NaN   NaN   \n",
            "\n",
            "               Age       SibSp       Parch  Ticket        Fare    Cabin  \\\n",
            "count   891.000000  891.000000  891.000000     891  891.000000      204   \n",
            "unique         NaN         NaN         NaN     681         NaN      147   \n",
            "top            NaN         NaN         NaN  347082         NaN  B96 B98   \n",
            "freq           NaN         NaN         NaN       7         NaN        4   \n",
            "mean     29.699118    0.523008    0.381594     NaN   32.204208      NaN   \n",
            "std      13.002015    1.102743    0.806057     NaN   49.693429      NaN   \n",
            "min       0.420000    0.000000    0.000000     NaN    0.000000      NaN   \n",
            "25%      22.000000    0.000000    0.000000     NaN    7.910400      NaN   \n",
            "50%      29.699118    0.000000    0.000000     NaN   14.454200      NaN   \n",
            "75%      35.000000    1.000000    0.000000     NaN   31.000000      NaN   \n",
            "max      80.000000    8.000000    6.000000     NaN  512.329200      NaN   \n",
            "\n",
            "       Embarked  AgeNA  \n",
            "count       889  891.0  \n",
            "unique        3    NaN  \n",
            "top           S    NaN  \n",
            "freq        644    NaN  \n",
            "mean        NaN    0.0  \n",
            "std         NaN    0.0  \n",
            "min         NaN    0.0  \n",
            "25%         NaN    0.0  \n",
            "50%         NaN    0.0  \n",
            "75%         NaN    0.0  \n",
            "max         NaN    0.0  \n"
          ]
        }
      ]
    },
    {
      "cell_type": "code",
      "source": [
        "!pip install pyspark\n",
        "import pyspark\n",
        "from pyspark.sql import SparkSession\n",
        "\n",
        "#initialized SparkSession\n",
        "spark = SparkSession.builder \\\n",
        "    .appName(\"Titanic Data Preparation\") \\\n",
        "    .getOrCreate()\n",
        "\n"
      ],
      "metadata": {
        "colab": {
          "base_uri": "https://localhost:8080/"
        },
        "id": "B5QUxTvzHt5S",
        "outputId": "6b3ec07a-b02f-4c0d-fe7a-be399b4c51f5"
      },
      "execution_count": 2,
      "outputs": [
        {
          "output_type": "stream",
          "name": "stdout",
          "text": [
            "Collecting pyspark\n",
            "  Downloading pyspark-3.5.0.tar.gz (316.9 MB)\n",
            "\u001b[2K     \u001b[90m━━━━━━━━━━━━━━━━━━━━━━━━━━━━━━━━━━━━━━━━\u001b[0m \u001b[32m316.9/316.9 MB\u001b[0m \u001b[31m2.8 MB/s\u001b[0m eta \u001b[36m0:00:00\u001b[0m\n",
            "\u001b[?25h  Preparing metadata (setup.py) ... \u001b[?25l\u001b[?25hdone\n",
            "Requirement already satisfied: py4j==0.10.9.7 in /usr/local/lib/python3.10/dist-packages (from pyspark) (0.10.9.7)\n",
            "Building wheels for collected packages: pyspark\n",
            "  Building wheel for pyspark (setup.py) ... \u001b[?25l\u001b[?25hdone\n",
            "  Created wheel for pyspark: filename=pyspark-3.5.0-py2.py3-none-any.whl size=317425345 sha256=5120c4f4fa9007fe2364912a46f2142cbe191228ffbb9bde8460a87d7f1d9419\n",
            "  Stored in directory: /root/.cache/pip/wheels/41/4e/10/c2cf2467f71c678cfc8a6b9ac9241e5e44a01940da8fbb17fc\n",
            "Successfully built pyspark\n",
            "Installing collected packages: pyspark\n",
            "Successfully installed pyspark-3.5.0\n"
          ]
        }
      ]
    },
    {
      "cell_type": "code",
      "source": [
        "from pyspark.ml.feature import StringIndexer, OneHotEncoder"
      ],
      "metadata": {
        "id": "vmJoVoZmJb2R"
      },
      "execution_count": 3,
      "outputs": []
    },
    {
      "cell_type": "code",
      "source": [
        "from pyspark.sql import SparkSession\n",
        "from pyspark.ml.feature import StringIndexer, OneHotEncoder, VectorAssembler\n",
        "from pyspark.ml import Pipeline\n",
        "\n",
        "df = spark.read.csv(\"/content/drive/MyDrive/Colab Notebooks/assignments/titanic_train.csv\", header=True, inferSchema=True)\n",
        "# List of categorical columns\n",
        "categoricalColumns = ['Sex', 'Embarked']\n",
        "\n",
        "indexers = [StringIndexer(inputCol=column, outputCol=column+\"_index\").fit(df) for column in categoricalColumns]\n",
        "encoders = [OneHotEncoder(inputCol=indexer.getOutputCol(), outputCol=indexer.getOutputCol()+\"_vec\") for indexer in indexers]\n",
        "\n",
        "# 'Sex' column\n",
        "sex_indexer = StringIndexer(inputCol=\"Sex\", outputCol=\"Sex_index\").fit(df)\n",
        "sex_encoder = OneHotEncoder(inputCols=[\"Sex_index\"], outputCols=[\"Sex_vec\"])\n",
        "\n",
        "# 'Embarked' column\n",
        "embarked_indexer = StringIndexer(inputCol=\"Embarked\", outputCol=\"Embarked_index\").fit(df)\n",
        "embarked_encoder = OneHotEncoder(inputCols=[\"Embarked_index\"], outputCols=[\"Embarked_vec\"])\n",
        "\n",
        "pipeline = Pipeline(stages=indexers + encoders)\n",
        "model = pipeline.fit(df)\n",
        "transformed_df = model.transform(df)\n"
      ],
      "metadata": {
        "id": "qNdJYpo6KGCl"
      },
      "execution_count": 50,
      "outputs": []
    },
    {
      "cell_type": "code",
      "source": [
        "print(sex_encoder,sex_indexer)\n",
        "print(embarked_encoder,embarked_indexer)"
      ],
      "metadata": {
        "colab": {
          "base_uri": "https://localhost:8080/"
        },
        "id": "VXxPdaIJLd0i",
        "outputId": "d94e274a-696d-4d2e-fe4d-55d9a5fef1b8"
      },
      "execution_count": 51,
      "outputs": [
        {
          "output_type": "stream",
          "name": "stdout",
          "text": [
            "OneHotEncoder_56cfea72414b StringIndexerModel: uid=StringIndexer_e9f7cc0183ed, handleInvalid=error\n",
            "OneHotEncoder_592f934bc4b1 StringIndexerModel: uid=StringIndexer_62ea26eea11c, handleInvalid=error\n"
          ]
        }
      ]
    },
    {
      "cell_type": "code",
      "source": [
        "# Create StringIndexer and OneHotEncoder for the 'Sex' and 'Embarked' columns\n",
        "sex_indexer = StringIndexer(inputCol=\"Sex\", outputCol=\"SexIndex\", handleInvalid=\"keep\")\n",
        "sex_encoder = OneHotEncoder(inputCol=\"SexIndex\", outputCol=\"SexVec\", handleInvalid=\"keep\")\n",
        "\n",
        "embarked_indexer = StringIndexer(inputCol=\"Embarked\", outputCol=\"EmbarkedIndex\", handleInvalid=\"keep\")\n",
        "embarked_encoder = OneHotEncoder(inputCol=\"EmbarkedIndex\", outputCol=\"EmbarkedVec\", handleInvalid=\"keep\")\n",
        "\n",
        "# Create a VectorAssembler to combine feature columns\n",
        "assembler = VectorAssembler(\n",
        "    inputCols=[\"Pclass\", \"SexVec\", \"Age\", \"SibSp\", \"Parch\", \"Fare\", \"EmbarkedVec\"],\n",
        "    outputCol=\"features\",\n",
        "    handleInvalid=\"skip\"\n",
        ")\n",
        "\n",
        "# Create a Pipeline that includes all of the above steps\n",
        "pipeline = Pipeline(stages=[sex_indexer, sex_encoder, embarked_indexer, embarked_encoder, assembler])\n",
        "\n",
        "# Apply the Pipeline to the DataFrame\n",
        "pipeline_model = pipeline.fit(df)\n",
        "transformed_df = pipeline_model.transform(df)"
      ],
      "metadata": {
        "id": "Qt_IqQoAMdk4"
      },
      "execution_count": 53,
      "outputs": []
    },
    {
      "cell_type": "code",
      "source": [
        "print(assembler)\n",
        "print(pipeline)\n",
        "print(pipeline_model)\n",
        "print(transformed_df)"
      ],
      "metadata": {
        "colab": {
          "base_uri": "https://localhost:8080/"
        },
        "id": "bczMkghLNvlR",
        "outputId": "8c77dad5-65db-405a-cbb6-7f79b8b6d7fa"
      },
      "execution_count": 28,
      "outputs": [
        {
          "output_type": "stream",
          "name": "stdout",
          "text": [
            "VectorAssembler_eb744e7468f8\n",
            "Pipeline_46e0d26f14f1\n",
            "PipelineModel_2dc1fc73b673\n",
            "DataFrame[PassengerId: int, Survived: int, Pclass: int, Name: string, Sex: string, Age: double, SibSp: int, Parch: int, Ticket: string, Fare: double, Cabin: string, Embarked: string, SexIndex: double, SexVec: vector, EmbarkedIndex: double, EmbarkedVec: vector, features: vector]\n"
          ]
        }
      ]
    },
    {
      "cell_type": "code",
      "source": [
        "from pyspark.ml.classification import LogisticRegression\n",
        "\n",
        "# Create an instance of the logistic regression model\n",
        "lr = LogisticRegression(featuresCol=\"features\", labelCol=\"Survived\")\n",
        "\n",
        "# Update the Pipeline to include the logistic regression model\n",
        "pipeline = Pipeline(stages=[sex_indexer, sex_encoder, embarked_indexer, embarked_encoder, assembler, lr])\n",
        "\n",
        "# Apply the Pipeline to the DataFrame for model training\n",
        "pipeline_model = pipeline.fit(df)\n",
        "\n",
        "# Use the trained model to make predictions\n",
        "predictions = pipeline_model.transform(df)\n",
        "\n",
        "# View a portion of the prediction results\n",
        "predictions.select(\"features\", \"Survived\", \"probability\", \"prediction\").show()\n"
      ],
      "metadata": {
        "colab": {
          "base_uri": "https://localhost:8080/"
        },
        "id": "KCpNNRd7xuJ5",
        "outputId": "9ce04469-85c0-48da-fdfe-bf8f1689ad40"
      },
      "execution_count": 54,
      "outputs": [
        {
          "output_type": "stream",
          "name": "stdout",
          "text": [
            "+--------------------+--------+--------------------+----------+\n",
            "|            features|Survived|         probability|prediction|\n",
            "+--------------------+--------+--------------------+----------+\n",
            "|(12,[0,1,4,5,7,8]...|       0|[0.90941912330380...|       0.0|\n",
            "|(12,[0,2,4,5,7,9]...|       1|[0.07380262078749...|       1.0|\n",
            "|(12,[0,2,4,7,8],[...|       1|[0.37222396267341...|       1.0|\n",
            "|(12,[0,2,4,5,7,8]...|       1|[0.09686964420185...|       1.0|\n",
            "|(12,[0,1,4,7,8],[...|       0|[0.92454446927233...|       0.0|\n",
            "|(12,[0,1,4,7,8],[...|       0|[0.70436804344687...|       0.0|\n",
            "|[3.0,1.0,0.0,0.0,...|       0|[0.90082813049837...|       0.0|\n",
            "|(12,[0,2,4,6,7,8]...|       1|[0.41013906409640...|       1.0|\n",
            "|(12,[0,2,4,5,7,9]...|       1|[0.09014704295809...|       1.0|\n",
            "|[3.0,0.0,1.0,0.0,...|       1|[0.25626572604341...|       1.0|\n",
            "|(12,[0,2,4,7,8],[...|       1|[0.17355307704571...|       1.0|\n",
            "|(12,[0,1,4,7,8],[...|       0|[0.86477269918949...|       0.0|\n",
            "|[3.0,1.0,0.0,0.0,...|       0|[0.96478614886384...|       0.0|\n",
            "|(12,[0,2,4,7,8],[...|       0|[0.26061301778893...|       1.0|\n",
            "|(12,[0,2,4,7,8],[...|       1|[0.38311437873963...|       1.0|\n",
            "|[3.0,1.0,0.0,0.0,...|       0|[0.95168442257120...|       0.0|\n",
            "|(12,[0,2,4,5,7,8]...|       0|[0.51070991473307...|       0.0|\n",
            "|(12,[0,1,4,7,8],[...|       0|[0.78258793402926...|       0.0|\n",
            "|(12,[0,1,4,7,8],[...|       1|[0.77834937903408...|       0.0|\n",
            "|(12,[0,2,4,7,10],...|       1|[0.35954263853781...|       1.0|\n",
            "+--------------------+--------+--------------------+----------+\n",
            "only showing top 20 rows\n",
            "\n"
          ]
        }
      ]
    },
    {
      "cell_type": "code",
      "source": [
        "(trainingData, testData) = df.randomSplit([0.7, 0.3])\n"
      ],
      "metadata": {
        "id": "3M1XgovM1QUp"
      },
      "execution_count": 38,
      "outputs": []
    },
    {
      "cell_type": "code",
      "source": [
        "training_size = trainingData.count()\n",
        "test_size = testData.count()\n",
        "print(f\"Training set size: {training_size}\")\n",
        "print(f\"Test set size: {test_size}\")\n"
      ],
      "metadata": {
        "colab": {
          "base_uri": "https://localhost:8080/"
        },
        "id": "toVCyyDu1bn9",
        "outputId": "20db747a-c7d4-4479-8c1b-4317aaf2d61a"
      },
      "execution_count": 43,
      "outputs": [
        {
          "output_type": "stream",
          "name": "stdout",
          "text": [
            "Training set size: 624\n",
            "Test set size: 267\n"
          ]
        }
      ]
    },
    {
      "cell_type": "code",
      "source": [
        "# Fit the model on the training dataset\n",
        "model = pipeline.fit(trainingData)\n"
      ],
      "metadata": {
        "id": "Vi5RwJrE1yFH"
      },
      "execution_count": 56,
      "outputs": []
    },
    {
      "cell_type": "code",
      "source": [
        "# Make predictions on the test set\n",
        "predictions = model.transform(testData)\n",
        "\n",
        "# View prediction results\n",
        "predictions.select(\"features\", \"Survived\", \"probability\", \"prediction\").show()\n"
      ],
      "metadata": {
        "colab": {
          "base_uri": "https://localhost:8080/"
        },
        "id": "jxth82xM1_86",
        "outputId": "d320723f-f55d-4bcd-a1ae-31548b435f45"
      },
      "execution_count": 57,
      "outputs": [
        {
          "output_type": "stream",
          "name": "stdout",
          "text": [
            "+--------------------+--------+--------------------+----------+\n",
            "|            features|Survived|         probability|prediction|\n",
            "+--------------------+--------+--------------------+----------+\n",
            "|(12,[0,2,4,5,7,8]...|       1|[0.09187761047570...|       1.0|\n",
            "|(12,[0,1,4,7,8],[...|       0|[0.91945127566286...|       0.0|\n",
            "|(12,[0,2,4,6,7,8]...|       1|[0.38224332739250...|       1.0|\n",
            "|[3.0,0.0,1.0,0.0,...|       1|[0.21385399760460...|       1.0|\n",
            "|(12,[0,2,4,7,8],[...|       0|[0.20209333156575...|       1.0|\n",
            "|(12,[0,2,4,7,8],[...|       1|[0.37531440907857...|       1.0|\n",
            "|(12,[0,1,4,7,8],[...|       1|[0.43311644821723...|       1.0|\n",
            "|[3.0,0.0,1.0,0.0,...|       1|[0.70105596775986...|       0.0|\n",
            "|(12,[0,2,4,5,7,9]...|       1|[0.23943011909766...|       1.0|\n",
            "|(12,[0,2,4,5,7,8]...|       0|[0.32180328986084...|       1.0|\n",
            "|(12,[0,2,4,5,7,8]...|       1|[0.20373779726344...|       1.0|\n",
            "|(12,[0,1,4,6,7,9]...|       0|[0.79661393938637...|       0.0|\n",
            "|(12,[0,2,4,7,8],[...|       1|[0.10250174526724...|       1.0|\n",
            "|(12,[0,1,4,7,9],[...|       0|[0.86783346392413...|       0.0|\n",
            "|[2.0,0.0,1.0,0.0,...|       1|[0.09182528927029...|       1.0|\n",
            "|[3.0,1.0,0.0,0.0,...|       0|[0.97587681891731...|       0.0|\n",
            "|(12,[0,1,4,7,9],[...|       0|[0.82649848792544...|       0.0|\n",
            "|[3.0,0.0,1.0,0.0,...|       1|[0.70919020092570...|       0.0|\n",
            "|(12,[0,1,4,7,8],[...|       0|[0.75866433071373...|       0.0|\n",
            "|(12,[0,1,4,7,8],[...|       0|[0.59653635149875...|       0.0|\n",
            "+--------------------+--------+--------------------+----------+\n",
            "only showing top 20 rows\n",
            "\n"
          ]
        }
      ]
    },
    {
      "cell_type": "code",
      "source": [
        "from pyspark.ml.evaluation import BinaryClassificationEvaluator\n",
        "\n",
        "# Create an evaluator for binary classification, which defaults to measuring the AUC\n",
        "evaluator = BinaryClassificationEvaluator(rawPredictionCol=\"rawPrediction\", labelCol=\"Survived\", metricName=\"areaUnderROC\")\n",
        "\n",
        "# Compute the AUC on the predictions DataFrame\n",
        "auc = evaluator.evaluate(predictions)\n",
        "\n",
        "print(f\"AUC: {auc}\")\n"
      ],
      "metadata": {
        "colab": {
          "base_uri": "https://localhost:8080/"
        },
        "id": "WD74Gtfe304u",
        "outputId": "3e91e87d-54b8-47c5-95e7-934daab46bb1"
      },
      "execution_count": 46,
      "outputs": [
        {
          "output_type": "stream",
          "name": "stdout",
          "text": [
            "AUC: 0.8491095625241971\n"
          ]
        }
      ]
    }
  ]
}