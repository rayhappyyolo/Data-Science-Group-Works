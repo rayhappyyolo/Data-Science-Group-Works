{
  "nbformat": 4,
  "nbformat_minor": 0,
  "metadata": {
    "colab": {
      "provenance": []
    },
    "kernelspec": {
      "name": "python3",
      "display_name": "Python 3"
    },
    "language_info": {
      "name": "python"
    }
  },
  "cells": [
    {
      "cell_type": "markdown",
      "source": [
        "Q1"
      ],
      "metadata": {
        "id": "TpIONG3X6gCu"
      }
    },
    {
      "cell_type": "code",
      "source": [
        "import numpy as np\n",
        "import pandas as pd\n",
        "import math\n",
        "import scipy.stats as st\n",
        "from scipy.optimize import minimize\n",
        "\n",
        "# Set display options for comma separator and precision\n",
        "pd.options.display.float_format = '{:,.2f}'.format\n",
        "\n",
        "# Define the data\n",
        "days = 365  # days_per_year\n",
        "h = 0.15  # holding_cost_per_day\n",
        "tc = 0.19  # transportation_cost_per_unit\n",
        "ctc = 0.29  # centralized_transportation_cost\n",
        "L = 5  # supply_leadtime_days\n",
        "T = 6  # review_period_days\n",
        "csl = 0.95  # critical service level\n",
        "warehouse_cost = 50000  # annual warehouse cost\n",
        "\n",
        "corr = 0\n",
        "\n",
        "n_parts, n_regions = avg_demand.shape[0], avg_demand.shape[1]\n",
        "\n",
        "# Raw data: average demand and standard deviation of demand for each part in each region\n",
        "avg_demand = np.array([[35.48, 22.61, 17.66, 11.81, 3.36],\n",
        "                       [2.48, 4.15, 6.15, 6.16, 7.49],\n",
        "                       [0.48, 0.73, 0.80, 1.94, 2.54]])\n",
        "\n",
        "std_demand = np.array([[6.98, 6.48, 5.26, 3.48, 4.49],\n",
        "                       [3.16, 6.20, 6.39, 6.76, 3.56],\n",
        "                       [1.98, 1.42, 2.39, 3.76, 3.98]])\n",
        "\n",
        "num_demand = np.array([[10, 10, 10, 10, 10],\n",
        "                       [20, 20, 20, 20, 20],\n",
        "                       [70, 70, 70, 70, 70]])\n",
        "\n",
        "# Calculate safety stock\n",
        "def safety_stock_calculation(std_demand, service_level, lead_time, review_period):\n",
        "    z_score = st.norm.ppf(service_level)\n",
        "    safety_stock = z_score * std_demand * np.sqrt(lead_time + review_period)\n",
        "    return safety_stock\n",
        "\n",
        "safety_stock = safety_stock_calculation(std_demand, csl, L, T)\n",
        "\n",
        "# Calculate total costs for decentralized (System A) and centralized (System B) systems\n",
        "def total_cost(avg_demand, num_demand, safety_stock, h, tc, ctc, T, L):\n",
        "    # Cycle stock for decentralized system\n",
        "    cycle_stock_decentralized = avg_demand * T\n",
        "\n",
        "    # Inventory cost for decentralized system\n",
        "    inventory_cost_decentralized = np.sum(h * (cycle_stock_decentralized + safety_stock))\n",
        "\n",
        "    # Transportation cost for decentralized system\n",
        "    transport_cost_decentralized = tc * np.sum(num_demand * avg_demand)\n",
        "\n",
        "    # Total cost for decentralized system\n",
        "    total_cost_decentralized = inventory_cost_decentralized + transport_cost_decentralized\n",
        "\n",
        "    # For the centralized system, we pool all demand and calculate cycle stock, safety stock, and transportation cost\n",
        "    total_demand = np.sum(num_demand * avg_demand)\n",
        "    total_safety_stock = np.sum(safety_stock)\n",
        "\n",
        "    # Cycle stock for centralized system\n",
        "    cycle_stock_centralized = total_demand * T\n",
        "\n",
        "    # Inventory cost for centralized system\n",
        "    inventory_cost_centralized = h * (cycle_stock_centralized + total_safety_stock)\n",
        "\n",
        "    # Transportation cost for centralized system\n",
        "    transport_cost_centralized = ctc * total_demand\n",
        "\n",
        "    # Total cost for centralized system\n",
        "    total_cost_centralized = inventory_cost_centralized + transport_cost_centralized\n",
        "\n",
        "    return total_cost_decentralized, total_cost_centralized\n",
        "\n",
        "# Calculate the total costs using the function\n",
        "total_cost_decentralized, total_cost_centralized = total_cost(\n",
        "    avg_demand, num_demand, safety_stock, h, tc, ctc, T, L\n",
        ")\n",
        "\n",
        "print(f\"Total Cost for Decentralized System (A): ${total_cost_decentralized:,.2f}\")\n",
        "print(f\"Total Cost for Centralized System (B): ${total_cost_centralized:,.2f}\")\n"
      ],
      "metadata": {
        "colab": {
          "base_uri": "https://localhost:8080/"
        },
        "id": "Sy4hfeJR0yOx",
        "outputId": "0646948c-5997-4fdb-fd69-571b01fb05b3"
      },
      "execution_count": 15,
      "outputs": [
        {
          "output_type": "stream",
          "name": "stdout",
          "text": [
            "Total Cost for Decentralized System (A): $525.20\n",
            "Total Cost for Centralized System (B): $2,305.84\n"
          ]
        }
      ]
    },
    {
      "cell_type": "markdown",
      "source": [
        "Q2"
      ],
      "metadata": {
        "id": "7Ull-DUz6jNM"
      }
    },
    {
      "cell_type": "code",
      "source": [
        "import scipy.stats as st\n",
        "\n",
        "# Re-define the safety stock calculation function\n",
        "def safety_stock_calculation(avg_demand, std_demand, service_level, lead_time, review_period):\n",
        "    z_score = st.norm.ppf(service_level)\n",
        "    safety_stock = z_score * std_demand * np.sqrt(lead_time + review_period)\n",
        "    return safety_stock\n",
        "\n",
        "# Re-calculate the safety stock\n",
        "safety_stock = safety_stock_calculation(avg_demand, std_demand, csl, L, T)\n",
        "\n",
        "# Re-calculate total costs for decentralized (System A) and centralized (System B)\n",
        "def total_cost(avg_demand, num_demand, safety_stock, h, tc, ctc, T, L):\n",
        "    # Calculate cycle stock for decentralized system\n",
        "    cycle_stock_decentralized = avg_demand * T\n",
        "\n",
        "    # Calculate cycle stock for centralized system (sum of all individual cycle stocks)\n",
        "    cycle_stock_centralized = np.sum(cycle_stock_decentralized)\n",
        "\n",
        "    # Inventory cost for decentralized system (A)\n",
        "    inventory_cost_decentralized = np.sum(h * (cycle_stock_decentralized + safety_stock))\n",
        "\n",
        "    # Inventory cost for centralized system (B)\n",
        "    inventory_cost_centralized = h * (cycle_stock_centralized + np.sum(safety_stock))\n",
        "\n",
        "    # Transportation cost for decentralized system (A)\n",
        "    transport_cost_decentralized = tc * np.sum(num_demand * avg_demand)\n",
        "\n",
        "    # Transportation cost for centralized system (B)\n",
        "    transport_cost_centralized = ctc * np.sum(num_demand * avg_demand)\n",
        "\n",
        "    # Total cost for decentralized (A) and centralized (B) systems\n",
        "    total_cost_decentralized = inventory_cost_decentralized + transport_cost_decentralized\n",
        "    total_cost_centralized = inventory_cost_centralized + transport_cost_centralized\n",
        "\n",
        "    return total_cost_decentralized, total_cost_centralized\n",
        "\n",
        "# Calculate the total costs using the function\n",
        "total_cost_decentralized, total_cost_centralized = total_cost(\n",
        "    avg_demand, num_demand, safety_stock, h, tc, ctc, T, L\n",
        ")\n",
        "\n",
        "total_cost_decentralized, total_cost_centralized\n"
      ],
      "metadata": {
        "colab": {
          "base_uri": "https://localhost:8080/"
        },
        "id": "_7PzCXV7zx8F",
        "outputId": "4b0334b2-0cb3-42ec-af5c-e8f3f5e46ba7"
      },
      "execution_count": 12,
      "outputs": [
        {
          "output_type": "execute_result",
          "data": {
            "text/plain": [
              "(525.200395185698, 714.4103951856979)"
            ]
          },
          "metadata": {},
          "execution_count": 12
        }
      ]
    },
    {
      "cell_type": "code",
      "source": [
        "### create correlation matrix using provided scalar value (corr can also be provided as raw data)\n",
        "corr_matrix = np.full((n_regions, n_regions), corr)\n",
        "np.fill_diagonal(corr_matrix, 1) # Set diagonal elements to 1\n",
        "\n",
        "%clear\n",
        "\n",
        "# Objective function to maximize (using matrix calculations)\n",
        "def objective_function(flat_matrix):\n",
        "\n",
        "    centralize = flat_matrix.reshape((3, 5))     # Reshape the flattened matrix to 3x5\n",
        "\n",
        "    ### Compute aggregate standard deviation for centralized choices\n",
        "    agg_std_demand = np.diag( np.dot( np.dot( np.multiply(std_demand, centralize), corr_matrix), np.transpose( np.multiply(std_demand, centralize) ) ) )\n",
        "    sqrt_agg_std_demand = np.sqrt(agg_std_demand)\n",
        "\n",
        "    sum_columns = np.sum(centralize, axis=1, keepdims=True)\n",
        "    sum_columns[sum_columns == 0] = 1\n",
        "    sum_columns_inv = 1 / sum_columns\n",
        "\n",
        "    ### Adjust the standard deviation by dividing number of centralized regions for each part\n",
        "    sqrt_agg_std_demand2 = np.repeat(sqrt_agg_std_demand.reshape(n_parts, 1), n_regions, axis=1)\n",
        "    sum_columns_inv2 = np.repeat(sum_columns_inv.reshape(n_parts, 1), n_regions, axis=1)\n",
        "\n",
        "    std_demand_updated = np.array( centralize * sum_columns_inv2 * sqrt_agg_std_demand2 + (1 - centralize) * std_demand )\n",
        "\n",
        "    total_cost = sum(\n",
        "        days * num_demand[i, j] *\n",
        "        (h * ( st.norm.ppf(csl) * std_demand_updated[i, j] * math.sqrt(T + L) +  avg_demand[i, j] * (T/2 + L) )\n",
        "        + ( avg_demand[i, j] * ( centralize[i, j] * ctc + (1 - centralize[i, j]) * tc ) )\n",
        "        ) for i in range(n_parts) for j in range(n_regions) )\n",
        "\n",
        "    return total_cost  # Negate for maximization\n",
        "\n",
        ""
      ],
      "metadata": {
        "colab": {
          "base_uri": "https://localhost:8080/"
        },
        "id": "Gy7QhW3_8iIY",
        "outputId": "4d4a61ad-2721-4cdf-d1bb-4263133c943b"
      },
      "execution_count": 13,
      "outputs": [
        {
          "output_type": "stream",
          "name": "stdout",
          "text": [
            "\u001b[H\u001b[2J"
          ]
        }
      ]
    },
    {
      "cell_type": "code",
      "source": [
        "# Initial guess for decision variables\n",
        "initial_guess = np.full((n_parts, n_regions), 0.5)\n",
        "initial_guess_flat = initial_guess.flatten()     # Flatten the initial guess for use in optimization\n",
        "\n",
        "# Bounds for decision variables (between 0 and 1)\n",
        "bounds = [(0, 1)] * (n_parts*n_regions)\n",
        "\n",
        "# Custom constraint enforcing the sum of each group (of 5) to not equal 1\n",
        "def binary_constraints(x):\n",
        "    # Binary constraint\n",
        "    return [xi * (1 - xi) for xi in x]   # Forcing xi to be close to 0 or 1\n",
        "    # return x - 0.5\n",
        "\n",
        "# Constraints argument\n",
        "constraints = ({'type': 'ineq', 'fun': binary_constraints})\n",
        "\n",
        "# Optimization using minimize function from scipy\n",
        "result = minimize(objective_function, initial_guess_flat, bounds=bounds, constraints=constraints)\n",
        "\n",
        "# Extract the optimal solution as a 3x5 matrix\n",
        "optimal_soln_mat = np.round((result.x).reshape((n_parts, n_regions)))\n",
        "\n",
        "cdc_cost = days * sum( (num_demand[i, j] * avg_demand[i, j] * optimal_soln_mat[i, j]) for i in range(n_parts) for j in range(n_regions) )\n",
        "investment = cdc_cost * 2 if cdc_cost <= 400000 else (800000 + (cdc_cost - 400000) * 1.5)\n",
        "\n",
        "# Print the optimal solution as a 3x5 matrix\n",
        "print(\"Correlation :\", corr)\n",
        "print(f\"Minimum cost: ${(result.fun):>13,.2f}\")\n",
        "print(f\"CDC cost    : ${cdc_cost:>13,.2f}\")\n",
        "print(f\"Investment  : ${investment:>13,.2f}\")\n",
        "print(\"\\nOptimal Solution:\\n   R1   R2   R3   R4   R5\")\n",
        "for part in optimal_soln_mat:\n",
        "    print(\" \".join(f\"{int(region):4}\" for region in part))"
      ],
      "metadata": {
        "colab": {
          "base_uri": "https://localhost:8080/"
        },
        "id": "Kbv1oK2j87Vh",
        "outputId": "28664fec-bd51-4c58-894e-ceb6d4525d8f"
      },
      "execution_count": 16,
      "outputs": [
        {
          "output_type": "stream",
          "name": "stdout",
          "text": [
            "Correlation : 0\n",
            "Minimum cost: $ 1,272,712.13\n",
            "CDC cost    : $   561,114.50\n",
            "Investment  : $ 1,041,671.75\n",
            "\n",
            "Optimal Solution:\n",
            "   R1   R2   R3   R4   R5\n",
            "   0    1    1    1    1\n",
            "   1    1    1    1    1\n",
            "   1    1    1    1    1\n"
          ]
        }
      ]
    }
  ]
}